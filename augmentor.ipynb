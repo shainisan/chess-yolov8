{
 "cells": [
  {
   "cell_type": "code",
   "execution_count": 2,
   "id": "973d3ef2-2280-4309-88a9-abead17d79fc",
   "metadata": {},
   "outputs": [
    {
     "name": "stdout",
     "output_type": "stream",
     "text": [
      "Initialised with 15 image(s) found.\n",
      "Output directory set to images/output."
     ]
    }
   ],
   "source": [
    "import Augmentor\n",
    "\n",
    "p = Augmentor.Pipeline(\"images\")"
   ]
  },
  {
   "cell_type": "code",
   "execution_count": 23,
   "id": "44be8dbc-fd0e-4390-b3cd-c25606c0714c",
   "metadata": {},
   "outputs": [],
   "source": [
    "p.rotate(probability=0.5, max_left_rotation=10, max_right_rotation=10)\n",
    "\n",
    "p.zoom(probability=0.5, min_factor=1.1, max_factor=1.6)\n",
    "\n",
    "# First, we add a horizontal flip operation to the pipeline:\n",
    "p.flip_left_right(probability=0.5)\n",
    "\n",
    "# Now we add a vertical flip operation to the pipeline:\n",
    "p.flip_top_bottom(probability=0.5)\n",
    "\n",
    "# Add a rotate90 operation to the pipeline:\n",
    "p.rotate90(probability=0.5)"
   ]
  },
  {
   "cell_type": "code",
   "execution_count": 3,
   "id": "6300f5a3-0a17-4441-b1eb-82199249f942",
   "metadata": {},
   "outputs": [],
   "source": [
    "p.zoom(probability=0.5, min_factor=1.5, max_factor=3)"
   ]
  },
  {
   "cell_type": "code",
   "execution_count": 4,
   "id": "b62b2772-4b8b-4673-9d78-452f934ec512",
   "metadata": {},
   "outputs": [
    {
     "name": "stderr",
     "output_type": "stream",
     "text": [
      "Processing <PIL.Image.Image image mode=RGB size=960x1280 at 0x7FADFC014520>: 100%|██████████| 50/50 [00:01<00:00, 25.93 Samples/s]                   \n"
     ]
    }
   ],
   "source": [
    "p.sample(50)"
   ]
  },
  {
   "cell_type": "code",
   "execution_count": null,
   "id": "ad3659df-c076-48ce-b1f3-174a26186a83",
   "metadata": {},
   "outputs": [],
   "source": []
  }
 ],
 "metadata": {
  "kernelspec": {
   "display_name": "Python 3 (ipykernel)",
   "language": "python",
   "name": "python3"
  },
  "language_info": {
   "codemirror_mode": {
    "name": "ipython",
    "version": 3
   },
   "file_extension": ".py",
   "mimetype": "text/x-python",
   "name": "python",
   "nbconvert_exporter": "python",
   "pygments_lexer": "ipython3",
   "version": "3.9.13"
  }
 },
 "nbformat": 4,
 "nbformat_minor": 5
}
